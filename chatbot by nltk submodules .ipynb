{
 "cells": [
  {
   "cell_type": "markdown",
   "metadata": {},
   "source": [
    "#### Using inbuild chatbot and building a quick bot"
   ]
  },
  {
   "cell_type": "code",
   "execution_count": 4,
   "metadata": {},
   "outputs": [],
   "source": [
    "from nltk.chat.util import Chat\n",
    "from nltk.chat.eliza import eliza_chat\n",
    "from nltk.chat.iesha import iesha_chat\n",
    "from nltk.chat.rude import rude_chat\n",
    "from nltk.chat.suntsu import suntsu_chat\n",
    "from nltk.chat.zen import zen_chat\n",
    "\n",
    "bots = [\n",
    "    (eliza_chat, 'Eliza (psycho-babble)'),\n",
    "    (iesha_chat, 'Iesha (teen anime junky)'),\n",
    "    (rude_chat, 'Rude (abusive bot)'),\n",
    "    (suntsu_chat, 'Suntsu (Chinese sayings)'),\n",
    "    (zen_chat, 'Zen (gems of wisdom)'),\n",
    "]\n",
    "\n",
    "\n",
    "\n",
    "\n",
    "\n",
    "def chatbots():\n",
    "    import sys\n",
    "\n",
    "    print('Which chatbot would you like to talk to?')\n",
    "    botcount = len(bots)\n",
    "    for i in range(botcount):\n",
    "        print('  %d: %s' % (i + 1, bots[i][1]))\n",
    "    while True:\n",
    "        print('\\nEnter a number in the range 1-%d: ' % botcount, end=' ')\n",
    "        choice=input()\n",
    "        #choice = sys.stdin.readline().strip()\n",
    "        if choice.isdigit() and (int(choice) - 1) in range(botcount):\n",
    "            break\n",
    "        else:\n",
    "            print('   Error: bad chatbot number')\n",
    "\n",
    "    chatbot = bots[int(choice) - 1][0]\n",
    "    chatbot()"
   ]
  },
  {
   "cell_type": "code",
   "execution_count": 5,
   "metadata": {},
   "outputs": [
    {
     "name": "stdout",
     "output_type": "stream",
     "text": [
      "Which chatbot would you like to talk to?\n",
      "  1: Eliza (psycho-babble)\n",
      "  2: Iesha (teen anime junky)\n",
      "  3: Rude (abusive bot)\n",
      "  4: Suntsu (Chinese sayings)\n",
      "  5: Zen (gems of wisdom)\n",
      "\n",
      "Enter a number in the range 1-5:  "
     ]
    },
    {
     "name": "stdin",
     "output_type": "stream",
     "text": [
      " 10\n"
     ]
    },
    {
     "name": "stdout",
     "output_type": "stream",
     "text": [
      "   Error: bad chatbot number\n",
      "\n",
      "Enter a number in the range 1-5:  "
     ]
    },
    {
     "name": "stdin",
     "output_type": "stream",
     "text": [
      " 3\n"
     ]
    },
    {
     "name": "stdout",
     "output_type": "stream",
     "text": [
      "Talk to the program by typing in plain English, using normal upper-\n",
      "and lower-case letters and punctuation.  Enter \"quit\" when done.\n",
      "========================================================================\n",
      "I suppose I should say hello.\n"
     ]
    },
    {
     "name": "stdin",
     "output_type": "stream",
     "text": [
      "> hello\n"
     ]
    },
    {
     "name": "stdout",
     "output_type": "stream",
     "text": [
      "Oh good, somebody else to talk to. Joy.\n"
     ]
    },
    {
     "name": "stdin",
     "output_type": "stream",
     "text": [
      "> how are you\n"
     ]
    },
    {
     "name": "stdout",
     "output_type": "stream",
     "text": [
      "How do you think?\n"
     ]
    },
    {
     "name": "stdin",
     "output_type": "stream",
     "text": [
      "> great\n"
     ]
    },
    {
     "name": "stdout",
     "output_type": "stream",
     "text": [
      "Either become more thrilling or get lost, buddy.\n"
     ]
    },
    {
     "name": "stdin",
     "output_type": "stream",
     "text": [
      "> ok\n"
     ]
    },
    {
     "name": "stdout",
     "output_type": "stream",
     "text": [
      "Either become more thrilling or get lost, buddy.\n"
     ]
    },
    {
     "name": "stdin",
     "output_type": "stream",
     "text": [
      "> thank you\n"
     ]
    },
    {
     "name": "stdout",
     "output_type": "stream",
     "text": [
      "I'm getting bored here. Become more interesting.\n"
     ]
    },
    {
     "name": "stdin",
     "output_type": "stream",
     "text": [
      "> bye\n"
     ]
    },
    {
     "name": "stdout",
     "output_type": "stream",
     "text": [
      "Change the subject before I die of fatal boredom.\n"
     ]
    },
    {
     "name": "stdin",
     "output_type": "stream",
     "text": [
      "> quit\n"
     ]
    },
    {
     "name": "stdout",
     "output_type": "stream",
     "text": [
      "Either become more thrilling or get lost, buddy.\n"
     ]
    }
   ],
   "source": [
    "chatbots()"
   ]
  },
  {
   "cell_type": "markdown",
   "metadata": {},
   "source": [
    "\n",
    "by combining nlp chatbot and inbuilt chat bot e can have some seriously crazy results with different personality chat bot\n",
    "\n",
    "### Thank you\n",
    "\n"
   ]
  }
 ],
 "metadata": {
  "kernelspec": {
   "display_name": "Python 3",
   "language": "python",
   "name": "python3"
  },
  "language_info": {
   "codemirror_mode": {
    "name": "ipython",
    "version": 3
   },
   "file_extension": ".py",
   "mimetype": "text/x-python",
   "name": "python",
   "nbconvert_exporter": "python",
   "pygments_lexer": "ipython3",
   "version": "3.7.4"
  }
 },
 "nbformat": 4,
 "nbformat_minor": 4
}
